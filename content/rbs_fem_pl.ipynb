{
 "cells": [
  {
   "cell_type": "code",
   "execution_count": 1,
   "id": "1257c4a8-4bd0-4647-ae95-160dc125c443",
   "metadata": {
    "editable": true,
    "slideshow": {
     "slide_type": ""
    },
    "tags": []
   },
   "outputs": [],
   "source": [
    "import piplite\n",
    "await piplite.install(\"lib_rigid_body\")\n",
    "await piplite.install(\"widgetsnbextension\")\n",
    "await piplite.install(\"pythreejs\")\n",
    "\n",
    "from lib_rigid_body.rigid_body_FEM import *\n",
    "import lib_rigid_body.rigid_body_FEM.bla as bla\n",
    "\n",
    "import pythreejs as p3\n",
    "from pythreejs import *\n",
    "\n",
    "from IPython.display import display\n",
    "import ipywidgets as widgets\n",
    "\n",
    "import pickle"
   ]
  },
  {
   "cell_type": "markdown",
   "id": "5904e0c1-20ac-45e9-9587-728549d21cfd",
   "metadata": {},
   "source": [
    "## Setup Objects"
   ]
  },
  {
   "cell_type": "code",
   "execution_count": 2,
   "id": "bf6e80a0-d42c-4425-a739-de6696f2b75b",
   "metadata": {
    "editable": true,
    "slideshow": {
     "slide_type": ""
    },
    "tags": []
   },
   "outputs": [],
   "source": [
    "with open(\"box.pickle\", \"rb\") as file:\n",
    "    box = pickle.load(file)\n",
    "# with open(\"cylinder.pickle\", \"rb\") as file:\n",
    "#     cylinder = pickle.load(file)"
   ]
  },
  {
   "cell_type": "code",
   "execution_count": 3,
   "id": "bd6df028-10d7-4932-99cf-eb61bf3bc1cc",
   "metadata": {
    "editable": true,
    "slideshow": {
     "slide_type": ""
    },
    "tags": []
   },
   "outputs": [],
   "source": [
    "# set up physics simulation environment\n",
    "rbs = RBS_FEM()\n",
    "rbs.gravity = (0, 0.05, 0)\n",
    "\n",
    "# set up physics simulation object for cube\n",
    "r1 =  box\n",
    "# r1.setPhat(3, 0.01)\n",
    "# r1.setPhat(4, 0.01)\n",
    "\n",
    "p1 = Transformation()\n",
    "p1.setTranslation(0,0,0)\n",
    "p1.setRotation(0,0,1)\n",
    "p1.setRotation(1,1,1)\n",
    "p1.setRotation(2,2,1)\n",
    "r1.q=p1\n",
    "c1 = rbs.addBody(r1)\n",
    "\n",
    "r2 = box\n",
    "# r2.setPhat(3, 0.05)\n",
    "# r2.setPhat(4, 0.01)\n",
    "\n",
    "p2 = Transformation()\n",
    "p2.setTranslation(2,0,0)\n",
    "p2.setRotation(0,0,1)\n",
    "p2.setRotation(1,1,1)\n",
    "p2.setRotation(2,2,1)\n",
    "r2.q=p2\n",
    "\n",
    "c2 = rbs.addBody(r2)\n",
    "c2.pos = (0.5, 0.5, 0.5)\n",
    "s = Spring(c1, c2, 10, 0.05)\n",
    "rbs.addSpring(s)\n",
    "\n",
    "f1 = rbs.addFix()\n",
    "f1.pos = (-3, 3, -3)\n",
    "\n",
    "s2 = Spring(f1, c1, 2, 0.05)\n",
    "rbs.addSpring(s2)\n",
    "\n",
    "rbs.saveState()"
   ]
  },
  {
   "cell_type": "markdown",
   "id": "bcbe3b20-ed92-438f-830d-88573e762fae",
   "metadata": {
    "jp-MarkdownHeadingCollapsed": true
   },
   "source": [
    "## Setup Graphics"
   ]
  },
  {
   "cell_type": "code",
   "execution_count": 4,
   "id": "c3ee5843-fe01-4ebf-822f-64a0e5dd74dc",
   "metadata": {},
   "outputs": [],
   "source": [
    "def appendConnector(c,connectors):\n",
    "    p = rbs.connectorPos(c)\n",
    "    if(c.type == 0):\n",
    "        color = 'green'\n",
    "    else :\n",
    "        color = 'black'\n",
    "    connectors.append(\n",
    "        p3.Mesh(p3.SphereBufferGeometry(0.2, 16, 16),\n",
    "             p3.MeshStandardMaterial(color=color),\n",
    "             position=(p[0], p[1], p[2])))\n",
    "\n",
    "def initConnectors(l):\n",
    "    connectors = []\n",
    "    for s in l:\n",
    "        cA = s.connectorA\n",
    "        cB = s.connectorB\n",
    "        appendConnector(cA,connectors);\n",
    "        appendConnector(cB,connectors);\n",
    "    return connectors\n",
    "    \n",
    "\n",
    "def updateConnectors(l, connectors):\n",
    "    for i in range(len(l)):\n",
    "        cA = l[i].connectorA\n",
    "        cB = l[i].connectorB\n",
    "        pA = rbs.connectorPos(cA);\n",
    "        pB = rbs.connectorPos(cB);\n",
    "        connectors[2*i].position = (pA[0], pA[1], pA[2])\n",
    "        connectors[2*i+1].position = (pB[0], pB[1], pB[2])\n",
    "\n",
    "def positionsOf(l):\n",
    "    res = []\n",
    "    for s in l:\n",
    "        cA = s.connectorA\n",
    "        cB = s.connectorB\n",
    "        pA = rbs.connectorPos(cA);\n",
    "        pB = rbs.connectorPos(cB);\n",
    "        res.append ([ [pA[0], pA[1], pA[2]], [pB[0], pB[1], pB[2]] ])\n",
    "    return res\n",
    "\n",
    "\n",
    "connectorsSprings = initConnectors(rbs.springs())\n",
    "springpos = positionsOf(rbs.springs())\n",
    "\n",
    "if springpos:\n",
    "    springgeo = p3.LineSegmentsGeometry(positions=springpos)\n",
    "    m2 = p3.LineMaterial(linewidth=3, color='cyan')\n",
    "    springs = p3.LineSegments2(springgeo, m2)\n",
    "\n",
    "# connectorsBeams = initConnectors(rbs.beams())\n",
    "# beampos = positionsOf(rbs.beams())\n",
    "\n",
    "# if beampos:\n",
    "#     beamgeo = p3.LineSegmentsGeometry(positions=beampos)\n",
    "#     m2 = p3.LineMaterial(linewidth=4, color='blue')\n",
    "#     beams = p3.LineSegments2(beamgeo, m2)\n"
   ]
  },
  {
   "cell_type": "code",
   "execution_count": 5,
   "id": "1dbdc0df-703e-4ec9-9f76-3bbdb9348b13",
   "metadata": {
    "editable": true,
    "slideshow": {
     "slide_type": ""
    },
    "tags": []
   },
   "outputs": [],
   "source": [
    "view_width = 1000\n",
    "view_height = 700\n",
    "buffergeos = []\n",
    "p3meshes = []\n",
    "\n",
    "# set up pythreejs 3d objects\n",
    "for body in rbs.bodies():\n",
    "    buffergeom = p3.BufferGeometry(attributes = {\"position\" : p3.BufferAttribute(body.vertices), \"normal\" : p3.BufferAttribute(body.normals)})\n",
    "    # buffergeom.exec_three_obj_method(\"computeVertexNormals\") # gives normals for shading\n",
    "    material = p3.MeshPhongMaterial(color='#ff3333', shininess=150, morphTargets=True, side=\"DoubleSide\")\n",
    "    p3mesh = p3.Mesh(buffergeom, material, position=(0,0,0))\n",
    "    buffergeos.append(buffergeom)\n",
    "    p3meshes.append(p3mesh)\n",
    "\n",
    "# extra scene contents\n",
    "camera = p3.PerspectiveCamera( position=[10, 6, 10], aspect=view_width/view_height)\n",
    "key_light = p3.DirectionalLight(position=[0, 10, 10])\n",
    "ambient_light = p3.AmbientLight()\n",
    "grid = p3.GridHelper(500, 500//5, \"#2F4F4F\", \"#2F4F4F\")\n",
    "axesHelper = p3.AxesHelper(5)\n",
    "\n",
    "# set up scene\n",
    "scene = p3.Scene(children=[camera, key_light, ambient_light, grid, axesHelper, *p3meshes, *connectorsSprings] + ([] if not springpos else [springs]))\n",
    "# scene.add(p3mesh)\n",
    "controller = p3.OrbitControls(controlling=camera)\n",
    "renderer = p3.Renderer(camera=camera, scene=scene, controls=[controller],\n",
    "                    width=view_width, height=view_height, antialias=True) # if performance is bad, try removing antalias=True"
   ]
  },
  {
   "cell_type": "code",
   "execution_count": 6,
   "id": "a9965a05-947e-4536-95ac-2421b1b9bb91",
   "metadata": {},
   "outputs": [],
   "source": [
    "# play/reset button\n",
    "play = widgets.Play(\n",
    "    value=0,\n",
    "    min=0,\n",
    "    max=10000,\n",
    "    step=1,\n",
    "    interval=100/30,\n",
    "    description=\"Press play\",\n",
    "    disabled=False\n",
    ")"
   ]
  },
  {
   "cell_type": "code",
   "execution_count": 7,
   "id": "118ca51d-42ff-48f1-9f2f-9f726df4ec55",
   "metadata": {},
   "outputs": [],
   "source": [
    "for m in p3meshes:\n",
    "    m.matrixAutoUpdate = False # make mesh movable\n",
    "\n",
    "def refresh():\n",
    "    \"updates all pythreejs object transformations\"\n",
    "    for i in range(0, len(rbs.bodies())):\n",
    "        p3meshes[i].matrix=rbs.bodies()[i].q.asTuple()\n",
    "    updateConnectors(rbs.springs(),connectorsSprings)\n",
    "    springpos = positionsOf(rbs.springs())\n",
    "    if springpos:\n",
    "        springs.geometry = p3.LineSegmentsGeometry(positions=springpos)\n",
    "    \n",
    "    # updateConnectors(rbs.beams(),connectorsBeams)\n",
    "    # beampos = positionsOf(rbs.beams())\n",
    "    # if beampos:\n",
    "    #     beams.geometry = p3.LineSegmentsGeometry(positions=beampos)\n",
    "\n",
    "def update():\n",
    "    \"update function, gets called every timestep; quasi main loop\"\n",
    "    simulate(rbs, 1, 20)\n",
    "    refresh()\n",
    "\n",
    "def observer(state):\n",
    "    \"event handler for clickable buttons\"\n",
    "    # if there is a change in time\n",
    "    if state[\"name\"] == \"value\":\n",
    "        # it might be a reset\n",
    "        if str(state[\"new\"]) == \"0\":\n",
    "            rbs.reset()\n",
    "            refresh()\n",
    "        # or it might be a progress in time\n",
    "        else:\n",
    "            update()\n",
    "    # repeat is used as an alias to reset\n",
    "    elif state[\"name\"] == \"repeat\":\n",
    "        rbs.reset()\n",
    "        refresh()\n",
    "\n",
    "play.observe(observer)"
   ]
  },
  {
   "cell_type": "markdown",
   "id": "d925962e-ab80-4923-86b9-42eb7f564675",
   "metadata": {},
   "source": [
    "## Renderer"
   ]
  },
  {
   "cell_type": "code",
   "execution_count": 8,
   "id": "c24ce734-6568-4e53-b187-e8d80cb099f1",
   "metadata": {
    "jupyter": {
     "source_hidden": true
    }
   },
   "outputs": [
    {
     "data": {
      "application/vnd.jupyter.widget-view+json": {
       "model_id": "9bc5ecea2e9e44f2a5a201249d9cc602",
       "version_major": 2,
       "version_minor": 0
      },
      "text/plain": [
       "HBox(children=(Play(value=0, description='Press play', interval=3, max=10000), HTML(value='<b>click-and-drag t…"
      ]
     },
     "metadata": {},
     "output_type": "display_data"
    },
    {
     "data": {
      "application/vnd.jupyter.widget-view+json": {
       "model_id": "50d15cb365794392abd2032dc4a2c667",
       "version_major": 2,
       "version_minor": 0
      },
      "text/plain": [
       "Renderer(camera=PerspectiveCamera(aspect=1.4285714285714286, position=(10.0, 6.0, 10.0), projectionMatrix=(1.0…"
      ]
     },
     "metadata": {},
     "output_type": "display_data"
    }
   ],
   "source": [
    "display(widgets.HBox([play, widgets.HTML(\"<b>click-and-drag to rotate, scroll to zoom, right-click-and-drag to move<b>\")]))\n",
    "display(renderer)\n",
    "refresh()"
   ]
  },
  {
   "cell_type": "code",
   "execution_count": null,
   "id": "1a13c052-eaf8-40e2-8395-e1d085118bba",
   "metadata": {},
   "outputs": [],
   "source": []
  }
 ],
 "metadata": {
  "kernelspec": {
   "display_name": "semsc",
   "language": "python",
   "name": "semsc"
  },
  "language_info": {
   "codemirror_mode": {
    "name": "ipython",
    "version": 3
   },
   "file_extension": ".py",
   "mimetype": "text/x-python",
   "name": "python",
   "nbconvert_exporter": "python",
   "pygments_lexer": "ipython3",
   "version": "3.12.3"
  }
 },
 "nbformat": 4,
 "nbformat_minor": 5
}
