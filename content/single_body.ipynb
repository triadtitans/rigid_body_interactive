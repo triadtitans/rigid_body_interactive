{
 "cells": [
  {
   "cell_type": "markdown",
   "id": "d865cbe8-b614-4e63-b0c0-43dd7f584ed6",
   "metadata": {},
   "source": [
    "# A Moving Body Without Forces\n",
    "**Run all cells and press the play button.**"
   ]
  },
  {
   "cell_type": "code",
   "execution_count": null,
   "id": "9db753d7",
   "metadata": {},
   "outputs": [],
   "source": [
    "# PLEASE BE PATIENT WITH THE FIRST BLOCK\n",
    "# the kernel needs to load and netgen needs to be imported, which takes its time\n",
    "from netgen.occ import Box, Pnt"
   ]
  },
  {
   "cell_type": "code",
   "execution_count": null,
   "id": "ac1e22a6",
   "metadata": {},
   "outputs": [],
   "source": [
    "import piplite\n",
    "await piplite.install(\"https://triadtitans.github.io/rigid_body_interactive/static/pyodide/lib_rigid_body-0.0.1-cp312-cp312-pyodide_2024_0_wasm32.whl\")\n",
    "await piplite.install(\"https://files.pythonhosted.org/packages/93/c1/68423f43bc95d873d745bef8030ecf47cd67f932f20b3f7080a02cff43ca/widgetsnbextension-4.0.11-py3-none-any.whl\")\n",
    "await piplite.install(\"pythreejs\")\n",
    "\n",
    "from lib_rigid_body.rigid_body_FEM import *\n",
    "import lib_rigid_body.rigid_body_FEM.bla as bla"
   ]
  },
  {
   "cell_type": "code",
   "execution_count": null,
   "id": "03c44d77",
   "metadata": {},
   "outputs": [],
   "source": [
    "import pythreejs as p3\n",
    "\n",
    "from IPython.display import display\n",
    "import ipywidgets as widgets"
   ]
  },
  {
   "cell_type": "code",
   "execution_count": 2,
   "id": "bf6e80a0-d42c-4425-a739-de6696f2b75b",
   "metadata": {
    "editable": true,
    "slideshow": {
     "slide_type": ""
    },
    "tags": []
   },
   "outputs": [],
   "source": [
    "# set up OCC CAD model\n",
    "# center of mass is automatically moved to origin by body_from_solid\n",
    "box = Box(Pnt(-0.5,-0.5,-0.5), Pnt(0.5,0.5,0.5))"
   ]
  },
  {
   "cell_type": "code",
   "execution_count": 3,
   "id": "ff9020a8-abc0-493b-b3ad-42914b2fa409",
   "metadata": {},
   "outputs": [],
   "source": [
    "# from ngsolve.webgui import Draw\n",
    "# Draw(mesh)"
   ]
  },
  {
   "cell_type": "code",
   "execution_count": 4,
   "id": "a4db6039-5747-4850-bba3-b9ade6445e9e",
   "metadata": {},
   "outputs": [],
   "source": [
    "def body_from_solid(obj):\n",
    "    \"extracts the mass matrix of the TopAbs_ShapeEnum.SOLID obj, using the figures computed by netgen\"\n",
    "\n",
    "    # important: move the center of mass into the origin\n",
    "    obj = obj.Move((-obj.center[0], -obj.center[1], -obj.center[2]))\n",
    "    \n",
    "    # copy the inertia matrix from netgen\n",
    "    inertia_matrix = bla.Matrix(3,3)\n",
    "    for i in range(3):\n",
    "        for j in range(3):\n",
    "            inertia_matrix[i, j] = obj.inertia[i, j]\n",
    "\n",
    "    # copy the center of mass from netgen\n",
    "    center_of_mass = bla.Vector(3)\n",
    "    for i in range(3): center_of_mass[i] = obj.center[i]\n",
    "\n",
    "    # rearrange it in C++ to make the mass matrix (the elegant way, using MatrixView)\n",
    "    body = RigidBody_FEM()\n",
    "    for i in range(3) : body.center[i] = obj.center[i]\n",
    "    body.mass = obj.mass\n",
    "    body.inertia = inertia_matrix\n",
    "    body.recalcMassMatrix()\n",
    "    \n",
    "    return body"
   ]
  },
  {
   "cell_type": "code",
   "execution_count": 5,
   "id": "20f4548f-b512-4fa9-8f69-c18104385a55",
   "metadata": {},
   "outputs": [],
   "source": [
    "def extract_vertices(obj: TopoDS_Shape):\n",
    "    \"extracts a p3js compatible vertex list from a netgen.occ TopoDS_Shape\"\n",
    "    \n",
    "    data = obj._webgui_data()[\"Bezier_trig_points\"]\n",
    "    \n",
    "    # for every face, each of the verts arrays holds one vertex\n",
    "    verts1 = data[0]\n",
    "    verts2 = data[1]\n",
    "    verts3 = data[2]\n",
    "    \n",
    "    # corresponding normals\n",
    "    normals1 = data[3]\n",
    "    normals2 = data[4]\n",
    "    normals3 = data[5]\n",
    "\n",
    "    combined_vertices = []\n",
    "    for i in range(0, len(verts1), 4):\n",
    "        combined_vertices.append(verts1[i : i+3])\n",
    "        combined_vertices.append(verts2[i : i+3])\n",
    "        combined_vertices.append(verts3[i : i+3])\n",
    "\n",
    "    combined_normals = []\n",
    "    for i in range(0, len(normals1), 3):\n",
    "        combined_normals.append(normals1[i : i+3])\n",
    "        combined_normals.append(normals2[i : i+3])\n",
    "        combined_normals.append(normals3[i : i+3])\n",
    "            \n",
    "    return combined_vertices, combined_normals"
   ]
  },
  {
   "cell_type": "code",
   "execution_count": 6,
   "id": "1dbdc0df-703e-4ec9-9f76-3bbdb9348b13",
   "metadata": {},
   "outputs": [],
   "source": [
    "view_width = 1000\n",
    "view_height = 700\n",
    "\n",
    "# set up pythreejs 3d object\n",
    "vertices, normals = extract_vertices(box)\n",
    "buffergeom = p3.BufferGeometry(attributes = {\"position\" : p3.BufferAttribute(vertices), \"normal\" : p3.BufferAttribute(normals)})\n",
    "# buffergeom.exec_three_obj_method(\"computeVertexNormals\") # gives normals for shading\n",
    "material = p3.MeshPhongMaterial(color='#ff3333', shininess=150, morphTargets=True, side=\"DoubleSide\")\n",
    "p3mesh = p3.Mesh(buffergeom, material, position=(0,0,0))\n",
    "# n = p3.VertexNormalsHelper(p3mesh)\n",
    "\n",
    "# extra scene contents\n",
    "camera = p3.PerspectiveCamera( position=[10, 6, 10], aspect=view_width/view_height)\n",
    "key_light = p3.DirectionalLight(position=[0, 10, 10])\n",
    "ambient_light = p3.AmbientLight()\n",
    "grid = p3.GridHelper(500, 500//5, \"#2F4F4F\", \"#2F4F4F\")\n",
    "\n",
    "# set up scene\n",
    "scene = p3.Scene(children=[p3mesh, camera, key_light, ambient_light, grid])\n",
    "controller = p3.OrbitControls(controlling=camera)\n",
    "renderer = p3.Renderer(camera=camera, scene=scene, controls=[controller],\n",
    "                    width=view_width, height=view_height, antialias=True) # if performance is bad, try removing antalias=True"
   ]
  },
  {
   "cell_type": "code",
   "execution_count": 7,
   "id": "bd6df028-10d7-4932-99cf-eb61bf3bc1cc",
   "metadata": {},
   "outputs": [],
   "source": [
    "# set up physics simulation object for cube\n",
    "r =  body_from_solid(box)\n",
    "r.momentumTrans = (0, 0, 0.1)\n",
    "r.momentumRot = (0, 0.01, 0)\n",
    "\n",
    "# set up physics simulation environment\n",
    "rbs = RBS_FEM()\n",
    "rbs.gravity = (0, 0, 0)\n",
    "connector = rbs.addBody(r)\n",
    "rbs.saveState()"
   ]
  },
  {
   "cell_type": "code",
   "execution_count": 8,
   "id": "ed9c75ce-17b1-4c95-ad3b-71f2caffe2be",
   "metadata": {},
   "outputs": [
    {
     "name": "stdout",
     "output_type": "stream",
     "text": [
      "(0.0, 0.0, 0.1)\n",
      "(0.0, 0.01, 0.0)\n"
     ]
    }
   ],
   "source": [
    "print(r.momentumTrans)\n",
    "print(r.momentumRot)"
   ]
  },
  {
   "cell_type": "code",
   "execution_count": 9,
   "id": "a9965a05-947e-4536-95ac-2421b1b9bb91",
   "metadata": {},
   "outputs": [],
   "source": [
    "# play/reset button\n",
    "play = widgets.Play(\n",
    "    value=0,\n",
    "    min=0,\n",
    "    max=10000,\n",
    "    step=1,\n",
    "    interval=100/60,\n",
    "    description=\"Press play\",\n",
    "    disabled=False\n",
    ")"
   ]
  },
  {
   "cell_type": "code",
   "execution_count": 10,
   "id": "118ca51d-42ff-48f1-9f2f-9f726df4ec55",
   "metadata": {},
   "outputs": [],
   "source": [
    "p3mesh.matrixAutoUpdate = False # make mesh movable\n",
    "\n",
    "def update():\n",
    "    \"update function, gets called every timestep; quasi main loop\"\n",
    "    simulate(rbs, 2.5, 2)\n",
    "    p3mesh.matrix=rbs.bodies()[0].transformation.asTuple()\n",
    "\n",
    "def observer(state):\n",
    "    \"event handler for clickable buttons\"\n",
    "    # if there is a change in time\n",
    "    if state[\"name\"] == \"value\":\n",
    "        # it might be a reset\n",
    "        if str(state[\"new\"]) == \"0\":\n",
    "            rbs.reset()\n",
    "            p3mesh.matrix=rbs.bodies()[0].transformation.asTuple()\n",
    "        # or it might be a progress in time\n",
    "        else:\n",
    "            update()\n",
    "    # repeat is used as an alias to reset\n",
    "    elif state[\"name\"] == \"repeat\":\n",
    "        rbs.reset()\n",
    "        p3mesh.matrix=rbs.bodies()[0].transformation.asTuple()\n",
    "\n",
    "play.observe(observer)\n"
   ]
  },
  {
   "cell_type": "code",
   "execution_count": 11,
   "id": "c24ce734-6568-4e53-b187-e8d80cb099f1",
   "metadata": {
    "editable": true,
    "slideshow": {
     "slide_type": ""
    },
    "tags": []
   },
   "outputs": [
    {
     "data": {
      "application/vnd.jupyter.widget-view+json": {
       "model_id": "00bd5f1dcd4c4e37a373e23ec4917379",
       "version_major": 2,
       "version_minor": 0
      },
      "text/plain": [
       "HBox(children=(Play(value=0, description='Press play', interval=1, max=10000), HTML(value='<b>click-and-drag t…"
      ]
     },
     "metadata": {},
     "output_type": "display_data"
    },
    {
     "data": {
      "application/vnd.jupyter.widget-view+json": {
       "model_id": "5a4403cbebbc4101ba3e6358e6a3e0cb",
       "version_major": 2,
       "version_minor": 0
      },
      "text/plain": [
       "Renderer(camera=PerspectiveCamera(aspect=1.4285714285714286, position=(10.0, 6.0, 10.0), projectionMatrix=(1.0…"
      ]
     },
     "metadata": {},
     "output_type": "display_data"
    }
   ],
   "source": [
    "display(widgets.HBox([play, widgets.HTML(\"<b>click-and-drag to rotate, scroll to zoom, right-click-and-drag to move<b>\")]))\n",
    "display(renderer)"
   ]
  },
  {
   "cell_type": "code",
   "execution_count": null,
   "id": "1a13c052-eaf8-40e2-8395-e1d085118bba",
   "metadata": {},
   "outputs": [],
   "source": []
  }
 ],
 "metadata": {
  "kernelspec": {
   "display_name": "semsc",
   "language": "python",
   "name": "semsc"
  },
  "language_info": {
   "codemirror_mode": {
    "name": "ipython",
    "version": 3
   },
   "file_extension": ".py",
   "mimetype": "text/x-python",
   "name": "python",
   "nbconvert_exporter": "python",
   "pygments_lexer": "ipython3",
   "version": "3.12.3"
  }
 },
 "nbformat": 4,
 "nbformat_minor": 5
}
