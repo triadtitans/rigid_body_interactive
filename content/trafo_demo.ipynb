{
 "cells": [
  {
   "cell_type": "code",
   "execution_count": null,
   "id": "5da7233d",
   "metadata": {},
   "outputs": [],
   "source": [
    "# PLEASE BE PATIENT WITH THE FIRST BLOCK\n",
    "# the kernel needs to load and netgen needs to be imported, which takes its time\n",
    "from netgen.occ import *"
   ]
  },
  {
   "cell_type": "code",
   "execution_count": null,
   "id": "b3c64ea2",
   "metadata": {},
   "outputs": [],
   "source": [
    "import piplite\n",
    "await piplite.install(\"https://triadtitans.github.io/rigid_body_interactive/static/pyodide/lib_rigid_body-0.0.1-cp312-cp312-pyodide_2024_0_wasm32.whl\")\n",
    "await piplite.install(\"https://files.pythonhosted.org/packages/93/c1/68423f43bc95d873d745bef8030ecf47cd67f932f20b3f7080a02cff43ca/widgetsnbextension-4.0.11-py3-none-any.whl\")\n",
    "await piplite.install(\"pythreejs\")\n",
    "\n",
    "from lib_rigid_body.rigid_body_FEM import *\n",
    "import lib_rigid_body.rigid_body_FEM.bla as bla"
   ]
  },
  {
   "cell_type": "code",
   "execution_count": null,
   "id": "e7dc56f9",
   "metadata": {},
   "outputs": [],
   "source": [
    "import pythreejs as p3\n",
    "\n",
    "from IPython.display import display\n",
    "import ipywidgets as widgets"
   ]
  },
  {
   "cell_type": "markdown",
   "id": "a009e1a4-8e2e-47ad-8bb0-b4369843f556",
   "metadata": {
    "editable": true,
    "jp-MarkdownHeadingCollapsed": true,
    "slideshow": {
     "slide_type": ""
    },
    "tags": []
   },
   "source": [
    "### Helper Functions for body setup"
   ]
  },
  {
   "cell_type": "code",
   "execution_count": 2,
   "id": "a4db6039-5747-4850-bba3-b9ade6445e9e",
   "metadata": {
    "editable": true,
    "slideshow": {
     "slide_type": ""
    },
    "tags": []
   },
   "outputs": [],
   "source": [
    "def extract_vertices(obj: TopoDS_Shape):\n",
    "    \"extracts a p3js compatible vertex list from a netgen.occ TopoDS_Shape\"\n",
    "    \n",
    "    data = obj._webgui_data()[\"Bezier_trig_points\"]\n",
    "    \n",
    "    # for every face, each of the verts arrays holds one vertex\n",
    "    verts1 = data[0]\n",
    "    verts2 = data[1]\n",
    "    verts3 = data[2]\n",
    "    \n",
    "    # corresponding normals\n",
    "    normals1 = data[3]\n",
    "    normals2 = data[4]\n",
    "    normals3 = data[5]\n",
    "\n",
    "    combined_vertices = []\n",
    "    for i in range(0, len(verts1), 4):\n",
    "        combined_vertices.append(verts1[i : i+3])\n",
    "        combined_vertices.append(verts2[i : i+3])\n",
    "        combined_vertices.append(verts3[i : i+3])\n",
    "\n",
    "    combined_normals = []\n",
    "    for i in range(0, len(normals1), 3):\n",
    "        combined_normals.append(normals1[i : i+3])\n",
    "        combined_normals.append(normals2[i : i+3])\n",
    "        combined_normals.append(normals3[i : i+3])\n",
    "            \n",
    "    return combined_vertices, combined_normals\n",
    "\n",
    "\n",
    "def body_from_solid(obj):\n",
    "    \"extracts the mass matrix of the TopAbs_ShapeEnum.SOLID obj, using the figures computed by netgen\"\n",
    "\n",
    "    # important: move the center of mass into the origin\n",
    "    obj = obj.Move((-obj.center[0], -obj.center[1], -obj.center[2]))\n",
    "    \n",
    "    # copy the inertia matrix from netgen\n",
    "    inertia_matrix = bla.Matrix(3,3)\n",
    "    for i in range(3):\n",
    "        for j in range(3):\n",
    "            inertia_matrix[i, j] = obj.inertia[i, j]\n",
    "\n",
    "    # copy the center of mass from netgen\n",
    "    center_of_mass = bla.Vector(3)\n",
    "    for i in range(3): center_of_mass[i] = obj.center[i]\n",
    "\n",
    "    # rearrange it in C++ to make the mass matrix (the elegant way, using MatrixView)\n",
    "    body = RigidBody_FEM()\n",
    "    for i in range(3) : body.center[i] = obj.center[i]\n",
    "    body.mass = obj.mass\n",
    "    body.inertia = inertia_matrix\n",
    "    body.recalcMassMatrix()\n",
    "\n",
    "    body.vertices, body.normals = extract_vertices(obj)\n",
    "    \n",
    "    return body"
   ]
  },
  {
   "cell_type": "markdown",
   "id": "5904e0c1-20ac-45e9-9587-728549d21cfd",
   "metadata": {},
   "source": [
    "## Setup System"
   ]
  },
  {
   "cell_type": "code",
   "execution_count": 3,
   "id": "bf6e80a0-d42c-4425-a739-de6696f2b75b",
   "metadata": {
    "editable": true,
    "slideshow": {
     "slide_type": ""
    },
    "tags": []
   },
   "outputs": [],
   "source": [
    "# set up OCC CAD model\n",
    "# center of mass is automatically moved to origin by body_from_solid\n",
    "box = Box(Pnt(-0.5,-0.5,-0.5), Pnt(0.5,0.5,0.5))"
   ]
  },
  {
   "cell_type": "code",
   "execution_count": 4,
   "id": "bd6df028-10d7-4932-99cf-eb61bf3bc1cc",
   "metadata": {
    "editable": true,
    "slideshow": {
     "slide_type": ""
    },
    "tags": []
   },
   "outputs": [],
   "source": [
    "# set up physics simulation environment\n",
    "rbs = RBS_FEM()\n",
    "rbs.gravity = (0, 0, 0)\n",
    "\n",
    "# set up physics simulation object for cube\n",
    "box =  body_from_solid(box)\n",
    "\n",
    "rbs.addBody(box)\n",
    "\n",
    "rbs.saveState()"
   ]
  },
  {
   "cell_type": "markdown",
   "id": "bcbe3b20-ed92-438f-830d-88573e762fae",
   "metadata": {
    "jp-MarkdownHeadingCollapsed": true
   },
   "source": [
    "## Setup Graphics"
   ]
  },
  {
   "cell_type": "code",
   "execution_count": 5,
   "id": "1dbdc0df-703e-4ec9-9f76-3bbdb9348b13",
   "metadata": {
    "editable": true,
    "slideshow": {
     "slide_type": ""
    },
    "tags": []
   },
   "outputs": [],
   "source": [
    "view_width = 1300\n",
    "view_height = 500\n",
    "buffergeos = []\n",
    "p3meshes = []\n",
    "\n",
    "# set up pythreejs 3d objects\n",
    "for body in rbs.bodies():\n",
    "    buffergeom = p3.BufferGeometry(attributes = {\"position\" : p3.BufferAttribute(body.vertices), \"normal\" : p3.BufferAttribute(body.normals)})\n",
    "    material = p3.MeshPhongMaterial(color='#ff3333', shininess=150, morphTargets=True, side=\"DoubleSide\")\n",
    "    p3mesh = p3.Mesh(buffergeom, material, position=(0,0,0))\n",
    "    buffergeos.append(buffergeom)\n",
    "    p3meshes.append(p3mesh)\n",
    "\n",
    "# extra scene contents\n",
    "camera = p3.PerspectiveCamera( position=[5, 3, 5], aspect=view_width/view_height)\n",
    "key_light = p3.DirectionalLight(position=[0, 10, 10])\n",
    "ambient_light = p3.AmbientLight()\n",
    "grid = p3.GridHelper(500, 500//5, \"#2F4F4F\", \"#2F4F4F\")\n",
    "axesHelper = p3.AxesHelper(5)\n",
    "\n",
    "# set up scene\n",
    "scene = p3.Scene(children=[camera, key_light, ambient_light, grid, axesHelper, *p3meshes])\n",
    "controller = p3.OrbitControls(controlling=camera)\n",
    "renderer = p3.Renderer(camera=camera, scene=scene, controls=[controller],\n",
    "                    width=view_width, height=view_height, antialias=True) # if performance is bad, try removing antalias=True"
   ]
  },
  {
   "cell_type": "code",
   "execution_count": 6,
   "id": "118ca51d-42ff-48f1-9f2f-9f726df4ec55",
   "metadata": {},
   "outputs": [],
   "source": [
    "for m in p3meshes:\n",
    "    m.matrixAutoUpdate = False # make mesh movable\n",
    "\n",
    "def refresh():\n",
    "    \"updates all pythreejs object transformations\"\n",
    "    for i in range(0, len(rbs.bodies())):\n",
    "        p3meshes[i].matrix=rbs.bodies()[i].transformation.asTuple()"
   ]
  },
  {
   "cell_type": "markdown",
   "id": "d925962e-ab80-4923-86b9-42eb7f564675",
   "metadata": {},
   "source": [
    "## Renderer"
   ]
  },
  {
   "cell_type": "code",
   "execution_count": 7,
   "id": "c24ce734-6568-4e53-b187-e8d80cb099f1",
   "metadata": {},
   "outputs": [
    {
     "data": {
      "application/vnd.jupyter.widget-view+json": {
       "model_id": "4571a98b442a46ca9e28868ff2a86640",
       "version_major": 2,
       "version_minor": 0
      },
      "text/plain": [
       "Renderer(camera=PerspectiveCamera(aspect=2.6, position=(5.0, 3.0, 5.0), projectionMatrix=(1.0, 0.0, 0.0, 0.0, …"
      ]
     },
     "metadata": {},
     "output_type": "display_data"
    }
   ],
   "source": [
    "display(renderer)\n",
    "refresh()"
   ]
  },
  {
   "cell_type": "markdown",
   "id": "b608e004-4b1b-42bf-bba5-18b01b875823",
   "metadata": {},
   "source": [
    "### reset transformation"
   ]
  },
  {
   "cell_type": "code",
   "execution_count": 8,
   "id": "598ea855-9abe-4427-8ae1-c508a8e88633",
   "metadata": {},
   "outputs": [],
   "source": [
    "box = rbs.bodies()[0]\n",
    "trafo = Transformation()\n",
    "box.transformation = trafo\n",
    "refresh()"
   ]
  },
  {
   "cell_type": "markdown",
   "id": "4f3cf2c0-bebe-426f-ba13-a65899210c04",
   "metadata": {},
   "source": [
    "### rotation in degrees"
   ]
  },
  {
   "cell_type": "code",
   "execution_count": 9,
   "id": "b828f65f-3dd7-470e-b29f-eb1979f142a4",
   "metadata": {},
   "outputs": [
    {
     "name": "stdout",
     "output_type": "stream",
     "text": [
      "9.999999999999975\n"
     ]
    }
   ],
   "source": [
    "trafo = Transformation()\n",
    "trafo.setRotationDeg(0, 10)\n",
    "box.transformation = trafo\n",
    "refresh()\n",
    "print(trafo.angle_deg)"
   ]
  },
  {
   "cell_type": "markdown",
   "id": "35fee557-a84e-4955-9495-0ad6c8bab63a",
   "metadata": {},
   "source": [
    "### applying another transformation: SE(3) is not commutative"
   ]
  },
  {
   "cell_type": "code",
   "execution_count": 10,
   "id": "d55e9371-0c6a-4f4a-92e2-69bd1ff52314",
   "metadata": {},
   "outputs": [],
   "source": [
    "trafo = Transformation()\n",
    "trafo2 = Transformation()\n",
    "\n",
    "trafo.setRotationDeg(0, 10)\n",
    "trafo.setTranslation(0, 0, -10)\n",
    "\n",
    "trafo2.setRotationDeg(1, -10)\n",
    "trafo2.setTranslation(0, 0, 10)\n",
    "\n",
    "box.transformation = trafo*trafo2 # exchange trafo and trafo2 to see the effect\n",
    "refresh()"
   ]
  },
  {
   "cell_type": "code",
   "execution_count": null,
   "id": "da3eee85-dadf-46f0-8e69-9f079f70d187",
   "metadata": {},
   "outputs": [],
   "source": []
  }
 ],
 "metadata": {
  "kernelspec": {
   "display_name": "semsc",
   "language": "python",
   "name": "semsc"
  },
  "language_info": {
   "codemirror_mode": {
    "name": "ipython",
    "version": 3
   },
   "file_extension": ".py",
   "mimetype": "text/x-python",
   "name": "python",
   "nbconvert_exporter": "python",
   "pygments_lexer": "ipython3",
   "version": "3.12.3"
  }
 },
 "nbformat": 4,
 "nbformat_minor": 5
}
