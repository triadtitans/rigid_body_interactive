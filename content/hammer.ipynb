{
 "cells": [
  {
   "cell_type": "markdown",
   "id": "72308cdd-efab-4414-99e4-b35283a35383",
   "metadata": {},
   "source": [
    "# Hammer Simulation\n",
    "**Run all cells and press the play button.\n",
    "The system can be modified in the section \"System Setup\".**"
   ]
  },
  {
   "cell_type": "code",
   "execution_count": null,
   "id": "4d95684d",
   "metadata": {},
   "outputs": [],
   "source": [
    "# PLEASE BE PATIENT WITH THE FIRST BLOCK\n",
    "# the kernel needs to load and netgen needs to be imported, which takes its time\n",
    "from netgen.occ import Box, Pnt, Cylinder, TopoDS_Shape, X, Y, Z"
   ]
  },
  {
   "cell_type": "code",
   "execution_count": null,
   "id": "5e76f549",
   "metadata": {},
   "outputs": [],
   "source": [
    "import piplite\n",
    "await piplite.install(\"https://triadtitans.github.io/rigid_body_interactive/static/pyodide/lib_rigid_body-0.0.1-cp312-cp312-pyodide_2024_0_wasm32.whl\")\n",
    "await piplite.install(\"https://files.pythonhosted.org/packages/93/c1/68423f43bc95d873d745bef8030ecf47cd67f932f20b3f7080a02cff43ca/widgetsnbextension-4.0.11-py3-none-any.whl\")\n",
    "await piplite.install(\"pythreejs\")\n",
    "\n",
    "from lib_rigid_body.rigid_body_FEM import *\n",
    "import lib_rigid_body.rigid_body_FEM.bla as bla"
   ]
  },
  {
   "cell_type": "code",
   "execution_count": null,
   "id": "9b8a3336",
   "metadata": {},
   "outputs": [],
   "source": [
    "import pythreejs as p3\n",
    "\n",
    "from IPython.display import display\n",
    "import ipywidgets as widgets"
   ]
  },
  {
   "cell_type": "markdown",
   "id": "a009e1a4-8e2e-47ad-8bb0-b4369843f556",
   "metadata": {
    "editable": true,
    "slideshow": {
     "slide_type": ""
    },
    "tags": []
   },
   "source": [
    "### Helper Functions for body setup"
   ]
  },
  {
   "cell_type": "code",
   "execution_count": 2,
   "id": "a4db6039-5747-4850-bba3-b9ade6445e9e",
   "metadata": {
    "editable": true,
    "slideshow": {
     "slide_type": ""
    },
    "tags": []
   },
   "outputs": [],
   "source": [
    "def extract_vertices(obj: TopoDS_Shape):\n",
    "    \"extracts a p3js compatible vertex list from a netgen.occ TopoDS_Shape\"\n",
    "    \n",
    "    data = obj._webgui_data()[\"Bezier_trig_points\"]\n",
    "    \n",
    "    # for every face, each of the verts arrays holds one vertex\n",
    "    verts1 = data[0]\n",
    "    verts2 = data[1]\n",
    "    verts3 = data[2]\n",
    "    \n",
    "    # corresponding normals\n",
    "    normals1 = data[3]\n",
    "    normals2 = data[4]\n",
    "    normals3 = data[5]\n",
    "\n",
    "    combined_vertices = []\n",
    "    for i in range(0, len(verts1), 4):\n",
    "        combined_vertices.append(verts1[i : i+3])\n",
    "        combined_vertices.append(verts2[i : i+3])\n",
    "        combined_vertices.append(verts3[i : i+3])\n",
    "\n",
    "    combined_normals = []\n",
    "    for i in range(0, len(normals1), 3):\n",
    "        combined_normals.append(normals1[i : i+3])\n",
    "        combined_normals.append(normals2[i : i+3])\n",
    "        combined_normals.append(normals3[i : i+3])\n",
    "            \n",
    "    return combined_vertices, combined_normals\n",
    "\n",
    "\n",
    "def body_from_solid(obj):\n",
    "    \"extracts the mass matrix of the TopAbs_ShapeEnum.SOLID obj, using the figures computed by netgen\"\n",
    "\n",
    "    # important: move the center of mass into the origin\n",
    "    obj = obj.Move((-obj.center[0], -obj.center[1], -obj.center[2]))\n",
    "    \n",
    "    # copy the inertia matrix from netgen\n",
    "    inertia_matrix = bla.Matrix(3,3)\n",
    "    for i in range(3):\n",
    "        for j in range(3):\n",
    "            inertia_matrix[i, j] = obj.inertia[i, j]\n",
    "\n",
    "    # copy the center of mass from netgen\n",
    "    center_of_mass = bla.Vector(3)\n",
    "    for i in range(3): center_of_mass[i] = obj.center[i]\n",
    "\n",
    "    # rearrange it in C++ to make the mass matrix (the elegant way, using MatrixView)\n",
    "    body = RigidBody_FEM()\n",
    "    for i in range(3) : body.center[i] = obj.center[i]\n",
    "    body.mass = obj.mass\n",
    "    body.inertia = inertia_matrix\n",
    "    body.recalcMassMatrix()\n",
    "\n",
    "    body.vertices, body.normals = extract_vertices(obj)\n",
    "    \n",
    "    return body"
   ]
  },
  {
   "cell_type": "markdown",
   "id": "5904e0c1-20ac-45e9-9587-728549d21cfd",
   "metadata": {},
   "source": [
    "## System Setup"
   ]
  },
  {
   "cell_type": "code",
   "execution_count": 3,
   "id": "bf6e80a0-d42c-4425-a739-de6696f2b75b",
   "metadata": {
    "editable": true,
    "slideshow": {
     "slide_type": ""
    },
    "tags": []
   },
   "outputs": [],
   "source": [
    "# set up OCC CAD model\n",
    "# center of mass is automatically moved to origin by body_from_solid\n",
    "head = Box(Pnt(0, 0, 0), Pnt(2, 1, 1))\n",
    "handle = Cylinder(Pnt(1, -2, 0.5), Y, r=0.1, h=2)\n",
    "hammer = head + handle"
   ]
  },
  {
   "cell_type": "code",
   "execution_count": 4,
   "id": "121edaf2-8365-4c46-a8f2-b44a14b3e8b6",
   "metadata": {},
   "outputs": [],
   "source": [
    "# from netgen.webgui import Draw\n",
    "# Draw(hammer)"
   ]
  },
  {
   "cell_type": "code",
   "execution_count": 5,
   "id": "bd6df028-10d7-4932-99cf-eb61bf3bc1cc",
   "metadata": {
    "editable": true,
    "slideshow": {
     "slide_type": ""
    },
    "tags": []
   },
   "outputs": [],
   "source": [
    "# set up physics simulation environment\n",
    "rbs = RBS_FEM()\n",
    "rbs.gravity = (0, 0.01, 0)\n",
    "\n",
    "# set up physics simulation object for cube\n",
    "hammer =  body_from_solid(hammer)\n",
    "hammer.momentumTrans = (1, 1, 0)\n",
    "hammer.momentumRot = (0, 0, -0.5)\n",
    "\n",
    "\n",
    "rbs.addBody(hammer)\n",
    "\n",
    "rbs.saveState()"
   ]
  },
  {
   "cell_type": "markdown",
   "id": "bcbe3b20-ed92-438f-830d-88573e762fae",
   "metadata": {},
   "source": [
    "## Setup Graphics"
   ]
  },
  {
   "cell_type": "code",
   "execution_count": 6,
   "id": "c3ee5843-fe01-4ebf-822f-64a0e5dd74dc",
   "metadata": {},
   "outputs": [],
   "source": [
    "def appendConnector(c,connectors):\n",
    "    p = rbs.connectorPos(c)\n",
    "    if(c.type == 0):\n",
    "        color = 'green'\n",
    "    else :\n",
    "        color = 'black'\n",
    "    connectors.append(\n",
    "        p3.Mesh(p3.SphereBufferGeometry(0.2, 16, 16),\n",
    "             p3.MeshStandardMaterial(color=color),\n",
    "             position=(p[0], p[1], p[2])))\n",
    "\n",
    "def initConnectors(l):\n",
    "    connectors = []\n",
    "    for s in l:\n",
    "        cA = s.connectorA\n",
    "        cB = s.connectorB\n",
    "        appendConnector(cA,connectors);\n",
    "        appendConnector(cB,connectors);\n",
    "    return connectors\n",
    "    \n",
    "\n",
    "def updateConnectors(l, connectors):\n",
    "    for i in range(len(l)):\n",
    "        cA = l[i].connectorA\n",
    "        cB = l[i].connectorB\n",
    "        pA = rbs.connectorPos(cA);\n",
    "        pB = rbs.connectorPos(cB);\n",
    "        connectors[2*i].position = (pA[0], pA[1], pA[2])\n",
    "        connectors[2*i+1].position = (pB[0], pB[1], pB[2])\n",
    "\n",
    "def positionsOf(l):\n",
    "    res = []\n",
    "    for s in l:\n",
    "        cA = s.connectorA\n",
    "        cB = s.connectorB\n",
    "        pA = rbs.connectorPos(cA);\n",
    "        pB = rbs.connectorPos(cB);\n",
    "        res.append ([ [pA[0], pA[1], pA[2]], [pB[0], pB[1], pB[2]] ])\n",
    "    return res\n",
    "\n",
    "\n",
    "connectorsSprings = initConnectors(rbs.springs())\n",
    "springpos = positionsOf(rbs.springs())\n",
    "\n",
    "if springpos:\n",
    "    springgeo = p3.LineSegmentsGeometry(positions=springpos)\n",
    "    m2 = p3.LineMaterial(linewidth=3, color='cyan')\n",
    "    springs = p3.LineSegments2(springgeo, m2)\n",
    "\n",
    "connectorsBeams = initConnectors(rbs.beams())\n",
    "beampos = positionsOf(rbs.beams())\n",
    "\n",
    "if beampos:\n",
    "    beamgeo = p3.LineSegmentsGeometry(positions=beampos)\n",
    "    m2 = p3.LineMaterial(linewidth=4, color='blue')\n",
    "    beams = p3.LineSegments2(beamgeo, m2)\n"
   ]
  },
  {
   "cell_type": "code",
   "execution_count": 7,
   "id": "1dbdc0df-703e-4ec9-9f76-3bbdb9348b13",
   "metadata": {
    "editable": true,
    "slideshow": {
     "slide_type": ""
    },
    "tags": []
   },
   "outputs": [],
   "source": [
    "view_width = 1000\n",
    "view_height = 700\n",
    "buffergeos = []\n",
    "p3meshes = []\n",
    "\n",
    "# set up pythreejs 3d objects\n",
    "for body in rbs.bodies():\n",
    "    buffergeom = p3.BufferGeometry(attributes = {\"position\" : p3.BufferAttribute(body.vertices), \"normal\" : p3.BufferAttribute(body.normals)})\n",
    "    material = p3.MeshPhongMaterial(color='#ff3333', shininess=150, morphTargets=True, side=\"DoubleSide\")\n",
    "    p3mesh = p3.Mesh(buffergeom, material, position=(0,0,0))\n",
    "    buffergeos.append(buffergeom)\n",
    "    p3meshes.append(p3mesh)\n",
    "\n",
    "# extra scene contents\n",
    "camera = p3.PerspectiveCamera( position=[10, 6, 10], aspect=view_width/view_height)\n",
    "key_light = p3.DirectionalLight(position=[0, 10, 10])\n",
    "ambient_light = p3.AmbientLight()\n",
    "grid = p3.GridHelper(500, 500//5, \"#2F4F4F\", \"#2F4F4F\")\n",
    "axesHelper = p3.AxesHelper(5)\n",
    "\n",
    "# set up scene\n",
    "scene = p3.Scene(children=[camera, key_light, ambient_light, grid, axesHelper, *p3meshes, *connectorsSprings, *connectorsBeams] + ([] if not springpos else [springs])+ ([] if not beampos else [beams]))\n",
    "controller = p3.OrbitControls(controlling=camera)\n",
    "renderer = p3.Renderer(camera=camera, scene=scene, controls=[controller],\n",
    "                    width=view_width, height=view_height, antialias=True) # if performance is bad, try removing antalias=True"
   ]
  },
  {
   "cell_type": "code",
   "execution_count": 8,
   "id": "a9965a05-947e-4536-95ac-2421b1b9bb91",
   "metadata": {},
   "outputs": [],
   "source": [
    "# play/reset button\n",
    "play = widgets.Play(\n",
    "    value=0,\n",
    "    min=0,\n",
    "    max=10000,\n",
    "    step=1,\n",
    "    interval=100/30,\n",
    "    description=\"Press play\",\n",
    "    disabled=False\n",
    ")"
   ]
  },
  {
   "cell_type": "code",
   "execution_count": 9,
   "id": "118ca51d-42ff-48f1-9f2f-9f726df4ec55",
   "metadata": {},
   "outputs": [],
   "source": [
    "for m in p3meshes:\n",
    "    m.matrixAutoUpdate = False # make mesh movable\n",
    "\n",
    "def refresh():\n",
    "    \"updates all pythreejs object transformations\"\n",
    "    for i in range(0, len(rbs.bodies())):\n",
    "        p3meshes[i].matrix=rbs.bodies()[i].transformation.asTuple()\n",
    "    updateConnectors(rbs.springs(),connectorsSprings)\n",
    "    springpos = positionsOf(rbs.springs())\n",
    "    if springpos:\n",
    "        springs.geometry = p3.LineSegmentsGeometry(positions=springpos)\n",
    "    \n",
    "    updateConnectors(rbs.beams(),connectorsBeams)\n",
    "    beampos = positionsOf(rbs.beams())\n",
    "    if beampos:\n",
    "        beams.geometry = p3.LineSegmentsGeometry(positions=beampos)\n",
    "\n",
    "def update():\n",
    "    \"update function, gets called every timestep; quasi main loop\"\n",
    "    simulate(rbs, 0.3, 3)\n",
    "    refresh()\n",
    "\n",
    "def observer(state):\n",
    "    \"event handler for clickable buttons\"\n",
    "    # if there is a change in time\n",
    "    if state[\"name\"] == \"value\":\n",
    "        # it might be a reset\n",
    "        if str(state[\"new\"]) == \"0\":\n",
    "            rbs.reset()\n",
    "            refresh()\n",
    "        # or it might be a progress in time\n",
    "        else:\n",
    "            update()\n",
    "    # repeat is used as an alias to reset\n",
    "    elif state[\"name\"] == \"repeat\":\n",
    "        rbs.reset()\n",
    "        refresh()\n",
    "\n",
    "play.observe(observer)"
   ]
  },
  {
   "cell_type": "markdown",
   "id": "d925962e-ab80-4923-86b9-42eb7f564675",
   "metadata": {},
   "source": [
    "## Renderer"
   ]
  },
  {
   "cell_type": "code",
   "execution_count": 10,
   "id": "c24ce734-6568-4e53-b187-e8d80cb099f1",
   "metadata": {
    "jupyter": {
     "source_hidden": true
    }
   },
   "outputs": [
    {
     "data": {
      "application/vnd.jupyter.widget-view+json": {
       "model_id": "47bfbf38599547559e72eb468a1e3496",
       "version_major": 2,
       "version_minor": 0
      },
      "text/plain": [
       "HBox(children=(Play(value=0, description='Press play', interval=3, max=10000), HTML(value='<b>click-and-drag t…"
      ]
     },
     "metadata": {},
     "output_type": "display_data"
    },
    {
     "data": {
      "application/vnd.jupyter.widget-view+json": {
       "model_id": "3bb99f2e314d47cfbd8db9ad0840b813",
       "version_major": 2,
       "version_minor": 0
      },
      "text/plain": [
       "Renderer(camera=PerspectiveCamera(aspect=1.4285714285714286, position=(10.0, 6.0, 10.0), projectionMatrix=(1.0…"
      ]
     },
     "metadata": {},
     "output_type": "display_data"
    }
   ],
   "source": [
    "display(widgets.HBox([play, widgets.HTML(\"<b>click-and-drag to rotate, scroll to zoom, right-click-and-drag to move<b>\")]))\n",
    "display(renderer)\n",
    "refresh()"
   ]
  },
  {
   "cell_type": "code",
   "execution_count": null,
   "id": "1a13c052-eaf8-40e2-8395-e1d085118bba",
   "metadata": {},
   "outputs": [],
   "source": []
  }
 ],
 "metadata": {
  "kernelspec": {
   "display_name": "semsc",
   "language": "python",
   "name": "semsc"
  },
  "language_info": {
   "codemirror_mode": {
    "name": "ipython",
    "version": 3
   },
   "file_extension": ".py",
   "mimetype": "text/x-python",
   "name": "python",
   "nbconvert_exporter": "python",
   "pygments_lexer": "ipython3",
   "version": "3.12.3"
  }
 },
 "nbformat": 4,
 "nbformat_minor": 5
}
